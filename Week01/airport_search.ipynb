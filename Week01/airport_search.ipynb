{
 "cells": [
  {
   "cell_type": "markdown",
   "metadata": {},
   "source": [
    "# Search for Airports"
   ]
  },
  {
   "cell_type": "code",
   "execution_count": null,
   "metadata": {},
   "outputs": [],
   "source": [
    "from ipywidgets import interact, interactive, fixed, interact_manual\n",
    "import ipywidgets as widgets\n",
    "import sqlite3\n",
    "from mpl_toolkits.basemap import Basemap\n",
    "import matplotlib.pyplot as plt\n",
    "\n",
    "@interact(country='United States')\n",
    "def draw_map(country):\n",
    "    plt.rcParams['figure.figsize'] = [10, 10]\n",
    "    conn = sqlite3.connect(\"flights.db\")\n",
    "    cur = conn.cursor()\n",
    "    coords = cur.execute(f\"\"\"\n",
    "      select longitude, latitude \n",
    "      from airports where country = '{country}';\"\"\"\n",
    "    ).fetchall()\n",
    "\n",
    "    m = Basemap(\n",
    "      projection='merc',\n",
    "      llcrnrlat=-80,\n",
    "      urcrnrlat=80,\n",
    "      llcrnrlon=-180,\n",
    "      urcrnrlon=180,\n",
    "      lat_ts=20,\n",
    "      resolution='c', \n",
    "    )\n",
    "\n",
    "    m.drawcoastlines()\n",
    "    m.drawmapboundary()\n",
    "\n",
    "    x, y = m(\n",
    "      [float(l[0]) for l in coords], \n",
    "      [float(l[1]) for l in coords]\n",
    "    )\n",
    "\n",
    "    m.scatter(\n",
    "      x,\n",
    "      y,\n",
    "      1,\n",
    "      marker='o',\n",
    "      color='red'\n",
    "    )\n",
    "\n",
    "    cur.close()\n",
    "    conn.close()\n",
    "\n",
    "    return m\n"
   ]
  },
  {
   "cell_type": "code",
   "execution_count": null,
   "metadata": {},
   "outputs": [],
   "source": []
  }
 ],
 "metadata": {
  "kernelspec": {
   "display_name": "Python 3",
   "language": "python",
   "name": "python3"
  },
  "language_info": {
   "codemirror_mode": {
    "name": "ipython",
    "version": 3
   },
   "file_extension": ".py",
   "mimetype": "text/x-python",
   "name": "python",
   "nbconvert_exporter": "python",
   "pygments_lexer": "ipython3",
   "version": "3.6.9"
  }
 },
 "nbformat": 4,
 "nbformat_minor": 4
}
