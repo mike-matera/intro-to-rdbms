{
  "nbformat": 4,
  "nbformat_minor": 0,
  "metadata": {
    "colab": {
      "name": "Graphing.ipynb",
      "provenance": [],
      "collapsed_sections": [],
      "toc_visible": true
    },
    "kernelspec": {
      "name": "python3",
      "display_name": "Python 3"
    },
    "language_info": {
      "name": "python"
    }
  },
  "cells": [
    {
      "cell_type": "markdown",
      "metadata": {
        "id": "W_IKqG0lC0oZ"
      },
      "source": [
        "# Visualizing Data \n",
        "\n",
        "This notebook demonstrates how to connect SQL queries with data visualization tools written in Python. Visualization is among the most important features of the Jupyter Notebook because it combines the power of Python, SQL and the browser in a way that's easy to understand. \n",
        "\n",
        "## Setup \n",
        "\n",
        "The code cells in a notebook are meant to run in order from top to bottom. Actions taken in a code cell are available to other code cells. The setup cell below must run first so that all features are enabled in subsequent code cells. \n"
      ]
    },
    {
      "cell_type": "code",
      "metadata": {
        "colab": {
          "base_uri": "https://localhost:8080/"
        },
        "id": "LmESJni8Dfie",
        "outputId": "9d0df6bb-7bd0-4c85-fac2-8f8c0f01b076"
      },
      "source": [
        "# Import these libraries into the notebook.\n",
        "import pathlib\n",
        "import subprocess \n",
        "import pandas as pd \n",
        "import folium\n",
        "import folium.plugins\n",
        "import re \n",
        "\n",
        "# Download the datases\n",
        "if not pathlib.Path('flights.sqlite3').exists():\n",
        "    subprocess.run('wget http://www.lifealgorithmic.com/_static/databases/flights.sqlite3', shell=True)\n",
        "if not pathlib.Path('population.sqlite3').exists():\n",
        "    subprocess.run('wget http://www.lifealgorithmic.com/_static/databases/population.sqlite3', shell=True)\n",
        "if not pathlib.Path('59d92c1bf84a438d83f78465dce02c61_0.geojson').exists():\n",
        "    subprocess.run('wget https://opendata.arcgis.com/datasets/59d92c1bf84a438d83f78465dce02c61_0.geojson', shell=True)\n",
        "\n",
        "# Enable SQL in the notebook.\n",
        "%load_ext sql\n",
        "%config SqlMagic.autolimit=500"
      ],
      "execution_count": 85,
      "outputs": [
        {
          "output_type": "stream",
          "text": [
            "The sql extension is already loaded. To reload it, use:\n",
            "  %reload_ext sql\n"
          ],
          "name": "stdout"
        }
      ]
    },
    {
      "cell_type": "markdown",
      "metadata": {
        "id": "0PYrAG5xcc5F"
      },
      "source": [
        "## Python Code \n",
        "\n",
        "The code in the next cell is written in Python. There are four functions that you can use. Each function is given an SQL query that produces results that are graphed or plotted. The function's documentation explains what the query result should look like. \n"
      ]
    },
    {
      "cell_type": "code",
      "metadata": {
        "id": "IudKzaIquCla"
      },
      "source": [
        "def lineplot(query):\n",
        "  \"\"\"\n",
        "  The query should produce a table with three columns. The first column\n",
        "  will be the X-axis and subsequent columns contain plotted series. \n",
        "  The series name should be in the second colum and the series data in \n",
        "  the third.\n",
        "\n",
        "    1. x-axis \n",
        "    2. Series name \n",
        "    3. Series data\n",
        "\n",
        "  Examples:\n",
        "\n",
        "    select year, 'California', sum(pop_total) from population group by year; \n",
        "\n",
        "    select year, county, sum(pop_total) \n",
        "      from population group by year, county; \n",
        "\n",
        "  \"\"\"\n",
        "  m = re.search(r'%%sql\\s+(\\S+)', query)\n",
        "  url = m.group(1)\n",
        "  query = re.sub(r'%%sql\\s+(\\S+)', '', query)\n",
        "  df = pd.read_sql_query(query, url)\n",
        "  df.pivot(index=df.columns[0], columns=df.columns[1]).plot(figsize=(16,9))\n",
        "\n",
        "\n",
        "def barplot(query):\n",
        "  \"\"\"\n",
        "  Make a bar plot. The colum definition is the same as the line plot\n",
        "\n",
        "  Example: \n",
        "\n",
        "    select age, county, pop_total \n",
        "      from population\n",
        "      where county = 'SANTA CRUZ'\n",
        "        and year = 2020\n",
        "\n",
        "  \"\"\"\n",
        "  m = re.search(r'%%sql\\s+(\\S+)', query)\n",
        "  url = m.group(1)\n",
        "  query = re.sub(r'%%sql\\s+(\\S+)', '', query)\n",
        "  print('U', url, 'Q', query)\n",
        "  df = pd.read_sql_query(query, url)\n",
        "  df.pivot(index=df.columns[0], columns=df.columns[1]).plot(kind='bar', figsize=(16,9))\n",
        "\n",
        "\n",
        "def worldplot(query):\n",
        "  \"\"\"\n",
        "  Draw a world map with pins at specified locations. The arugment should be a \n",
        "  query that produces a table with the following columns: \n",
        "\n",
        "    1. label - The label to be put in the pin. \n",
        "    2. latitude - The latitude of the pin.\n",
        "    3. longitude - The longitude of the pin.\n",
        "\n",
        "  Example:\n",
        "\n",
        "    select icao as label, latitude, longitude from airports where country = 'United States'\n",
        "\n",
        "  \"\"\"\n",
        "  m = re.search(r'%%sql\\s+(\\S+)', query)\n",
        "  url = m.group(1)\n",
        "  query = re.sub(r'%%sql\\s+(\\S+)', '', query)\n",
        "  df = pd.read_sql_query(query, url)\n",
        "  m = folium.Map(zoom_start=3,)\n",
        "  markers = folium.plugins.MarkerCluster(\n",
        "          options={\n",
        "              'disableClusteringAtZoom': 6,\n",
        "              'showCoverageOnHover': True,\n",
        "          }\n",
        "      ).add_to(m)\n",
        "  for index, row in df.iterrows():\n",
        "      folium.Marker(\n",
        "          location=(row['latitude'], row['longitude']),\n",
        "          popup=row['label'],\n",
        "      ).add_to(markers)\n",
        "\n",
        "  display(m)\n",
        "\n",
        "def ca_county_map(query):\n",
        "  \"\"\"\n",
        "  Plot California county data as a Choropleth. The function takes a query \n",
        "  that provides the following columns: \n",
        "\n",
        "    1. County (The name of the county)\n",
        "    2. <Any Name> - The data to plot. \n",
        "\n",
        "  Example:\n",
        "\n",
        "    select county as County, sum(total_population) as Population \n",
        "      from population where year = 2020 \n",
        "      group by county;\n",
        "\n",
        "  \"\"\"\n",
        "  m = re.search(r'%%sql\\s+(\\S+)', query)\n",
        "  url = m.group(1)\n",
        "  query = re.sub(r'%%sql\\s+(\\S+)', '', query)\n",
        "  m = folium.Map(location=[36.9758708,-122.11752], zoom_start=7,)\n",
        "  df = pd.read_sql_query(query, 'sqlite:///population.sqlite3')\n",
        "  df['County'] = df['County'].str.title()\n",
        "  folium.Choropleth(\n",
        "      geo_data='59d92c1bf84a438d83f78465dce02c61_0.geojson',\n",
        "      name=\"choropleth\",\n",
        "      data=df,\n",
        "      columns=[\"County\", df.columns[1]],\n",
        "      key_on=\"feature.properties.CountyName\",\n",
        "      fill_color=\"YlGn\",\n",
        "      fill_opacity=0.7,\n",
        "      line_opacity=0.2,\n",
        "      legend_name=df.columns[1],\n",
        "  ).add_to(m)\n",
        "  folium.LayerControl().add_to(m)\n",
        "  display(m)"
      ],
      "execution_count": 99,
      "outputs": []
    },
    {
      "cell_type": "markdown",
      "metadata": {
        "id": "urF5RwW73bfS"
      },
      "source": [
        "## Question 1: California Population\n",
        "\n",
        "Run the example query for the line plot and plot it."
      ]
    },
    {
      "cell_type": "code",
      "metadata": {
        "id": "sKr0BGf53Moe"
      },
      "source": [
        "%%sql sqlite:///population.sqlite3\n"
      ],
      "execution_count": null,
      "outputs": []
    },
    {
      "cell_type": "code",
      "metadata": {
        "id": "Fl23lAwi3Oge"
      },
      "source": [
        "lineplot(_i)"
      ],
      "execution_count": null,
      "outputs": []
    },
    {
      "cell_type": "markdown",
      "metadata": {
        "id": "k0o1kElt3l-y"
      },
      "source": [
        "## Question 2: Multiple Lines \n",
        "\n",
        "Plot the population of Santa Cruz county and Monterey County by year using separate lines. "
      ]
    },
    {
      "cell_type": "code",
      "metadata": {
        "id": "rxVu92dl3uUS"
      },
      "source": [
        "%%sql sqlite:///population.sqlite3\n"
      ],
      "execution_count": null,
      "outputs": []
    },
    {
      "cell_type": "code",
      "metadata": {
        "id": "nvSx8JIT3wf7"
      },
      "source": [
        "lineplot(_i)"
      ],
      "execution_count": null,
      "outputs": []
    },
    {
      "cell_type": "markdown",
      "metadata": {
        "id": "JMuWOsUk84QI"
      },
      "source": [
        "## Qestion 3: Bar Plot\n",
        "\n",
        "Use the query example to show the population of Santa Cruz county by age in 2020. "
      ]
    },
    {
      "cell_type": "code",
      "metadata": {
        "id": "hPgGLPQwqYdY"
      },
      "source": [
        "%%sql sqlite:///population.sqlite3\n"
      ],
      "execution_count": null,
      "outputs": []
    },
    {
      "cell_type": "code",
      "metadata": {
        "cellView": "code",
        "id": "CpdvJJkqrZdh"
      },
      "source": [
        "barplot(_i)"
      ],
      "execution_count": null,
      "outputs": []
    },
    {
      "cell_type": "markdown",
      "metadata": {
        "id": "EpuJx_j49GN_"
      },
      "source": [
        "## Question 4: Demographics \n",
        "\n",
        "Update the previous plot to show Santa Cruz County's population by age where the population number is represented as a fraction of the total population. \n",
        "\n",
        "When you have the query working use the `union` function to overlay the same plot for all of California."
      ]
    },
    {
      "cell_type": "code",
      "metadata": {
        "id": "gFOVIvRH9GWd"
      },
      "source": [
        "%%sql sqlite:///population.sqlite3\n"
      ],
      "execution_count": null,
      "outputs": []
    },
    {
      "cell_type": "markdown",
      "metadata": {
        "id": "BaWv2OGG9uP9"
      },
      "source": [
        "## Question 5: U.S. Airports \n",
        "\n",
        "Use the exmple query to show all of the airports in the United States."
      ]
    },
    {
      "cell_type": "code",
      "metadata": {
        "id": "77woVjL_9uE8"
      },
      "source": [
        "%%sql sqlite:///flights.sqlite3\n"
      ],
      "execution_count": null,
      "outputs": []
    },
    {
      "cell_type": "code",
      "metadata": {
        "id": "6sczPSo57kXX"
      },
      "source": [
        "worldplot(_i)"
      ],
      "execution_count": null,
      "outputs": []
    },
    {
      "cell_type": "markdown",
      "metadata": {
        "id": "1YVixLMS99ms"
      },
      "source": [
        "## Question 6: Improved Labels \n",
        "\n",
        "Use update the column label in the last query to include the code for the airport as well as the city so that the pin labels show more useful information. \n",
        "\n",
        "**Notice anything weird??** "
      ]
    },
    {
      "cell_type": "code",
      "metadata": {
        "id": "d9CbUIjG9981"
      },
      "source": [
        "%%sql sqlite:///flights.sqlite3\n"
      ],
      "execution_count": null,
      "outputs": []
    },
    {
      "cell_type": "code",
      "metadata": {
        "id": "AZGpDkKt-aML"
      },
      "source": [
        "worldplot(_i)"
      ],
      "execution_count": null,
      "outputs": []
    },
    {
      "cell_type": "markdown",
      "metadata": {
        "id": "XCCjkZW4-tUZ"
      },
      "source": [
        "## Question 7: California Visualized \n",
        "\n",
        "Use the example query to show a county map of California population in 2020."
      ]
    },
    {
      "cell_type": "code",
      "metadata": {
        "id": "Bev4RdGD-tjB"
      },
      "source": [
        "%%sql sqlite:///population.sqlite3\n"
      ],
      "execution_count": null,
      "outputs": []
    },
    {
      "cell_type": "code",
      "metadata": {
        "id": "-3u8C4MD-vMp"
      },
      "source": [
        "ca_county_map(_i)"
      ],
      "execution_count": null,
      "outputs": []
    },
    {
      "cell_type": "markdown",
      "metadata": {
        "id": "s-QeXPSq-trK"
      },
      "source": [
        "## Question 8: Oldest Counties \n",
        "\n",
        "Update the last query to color code counties by the percentage of the population that's age 65 and older."
      ]
    },
    {
      "cell_type": "code",
      "metadata": {
        "id": "6EW7tekl-tyR"
      },
      "source": [
        "%%sql sqlite:///population.sqlite3\n"
      ],
      "execution_count": null,
      "outputs": []
    },
    {
      "cell_type": "code",
      "metadata": {
        "id": "fvXbdzRB-vp5"
      },
      "source": [
        "ca_county_map(_i)"
      ],
      "execution_count": null,
      "outputs": []
    }
  ]
}