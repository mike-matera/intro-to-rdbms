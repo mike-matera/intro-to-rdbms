{
 "cells": [
  {
   "cell_type": "markdown",
   "metadata": {},
   "source": [
    "# Queen Anne Project\n",
    "\n",
    "In this lab you will learn to use the SQL CREATE, INSERT, UPDATE and DELETE statements. "
   ]
  },
  {
   "cell_type": "code",
   "execution_count": null,
   "metadata": {},
   "outputs": [],
   "source": [
    "%load_ext sql\n",
    "%config SqlMagic.autolimit=100\n",
    "%sql sqlite://"
   ]
  },
  {
   "cell_type": "markdown",
   "metadata": {},
   "source": [
    "## Create the Customer Table\n",
    "\n",
    "In the cell below write an SQL create statement to create Queen Anne's customer table. The table is defined the following way:\n",
    "\n",
    "| Name | Type | Notes | \n",
    "| --- | --- | --- | \n",
    "| CustomerID | int | Primary Key |\n",
    "| LastName | varchar(25) |  |\n",
    "| FirstName | varchar(25) | |\n",
    "| Address | varchar(35) |  |\n",
    "| City | varchar(35) |  |\n",
    "| State | varchar(2) |  |\n",
    "| ZIP | varchar(10) |  |\n",
    "| Phone | varchar(12) |  |\n",
    "| Email | varchar(100) | |\n"
   ]
  },
  {
   "cell_type": "code",
   "execution_count": null,
   "metadata": {},
   "outputs": [],
   "source": [
    "%%sql \n",
    "\n"
   ]
  },
  {
   "cell_type": "markdown",
   "metadata": {},
   "source": [
    "## Insert Data Into the Customer Table\n",
    "\n",
    "In the cell below insert the following customer data:\n",
    "\n",
    "| ID | Lastname | FirstName | Address | City | State | ZIP | Phone | Email |\n",
    "| --- | --- | --- | --- | --- |--- | --- | --- | --- |\n",
    "| 1 | Shire | Robert | 6225 Evanston Ave N | Seattle | WA | 98103 | 206-524-2433 | Robert.Shire@somewhere.com |\n",
    "| 2 | Goodyear | Katherine | 7335 11th Ave NE | Seattle | WA | 98105 | 206-524-3544 | Katherine.Goodyear@somewhere.com |\n",
    "| 3 | Bancroft | Chris | 12605 NE 6th Street | Bellevue | WA | 98005 | 425-635-9788 | Chris.Bancroft@somewhere.com |\n"
   ]
  },
  {
   "cell_type": "code",
   "execution_count": null,
   "metadata": {},
   "outputs": [],
   "source": [
    "%%sql\n",
    "\n"
   ]
  },
  {
   "cell_type": "markdown",
   "metadata": {},
   "source": [
    "## Create The Employee Table\n",
    "\n",
    "In the cell below use an SQL create statement to make the employee table:\n",
    "\n",
    "| Name | Type | Notes | \n",
    "| --- | --- | --- | \n",
    "| EmployeeID | int  | Primary Key |\n",
    "| LastName | varchar(25) | |\n",
    "| FirstName | varchar(25) | |\n",
    "| Phone | varchar(12) | |\n",
    "| Email | varchar(100) | |\n",
    "\n",
    "Another"
   ]
  },
  {
   "cell_type": "code",
   "execution_count": null,
   "metadata": {},
   "outputs": [],
   "source": [
    "%%sql \n",
    "\n"
   ]
  },
  {
   "cell_type": "markdown",
   "metadata": {},
   "source": [
    "## Insert Employee Data \n",
    "\n",
    "In the cell below insert the following data into the employee table: \n",
    "\n",
    "| ID | LastName | FirstName | Phone | Email |\n",
    "| --- | --- | --- | --- | --- | \n",
    "| 1 | Stuart | Anne | 206-527-0010 | Anne.Stuart@QACS.com |\n",
    "| 2 | Stuart | George | 206-527-0011 | George.Stuart@QACS.com |\n",
    "| 3 | Matera | Mike | 831-555-1212 | Mike.Matera@QACS.com | \n"
   ]
  },
  {
   "cell_type": "code",
   "execution_count": null,
   "metadata": {},
   "outputs": [],
   "source": [
    "%%sql \n",
    "\n"
   ]
  },
  {
   "cell_type": "markdown",
   "metadata": {},
   "source": [
    "## Create the Vendor Table\n",
    "\n",
    "In the cell below use an SQL create statement to make the vendor table:\n",
    "\n",
    "| Name | Type | Notes | \n",
    "| --- | --- | --- | \n",
    "| VendorID | int\t | Primary Key |\n",
    "| CompanyName | varchar(100) |  |\n",
    "| ContactLastName | varchar(25) | NOT NULL |\n",
    "| ContactFirstName | varchar(25) | NOT NULL |\n",
    "| Address | varchar(35) |  |\n",
    "| City | varchar(35) |  |\n",
    "| State | varchar(2) |  |\n",
    "| ZIP | varchar(10) |  |\n",
    "| Phone | varchar(12) | NOT NULL |\n",
    "| Fax | varchar(12) |  |\n",
    "| Email | varchar(100) |  |\n"
   ]
  },
  {
   "cell_type": "code",
   "execution_count": null,
   "metadata": {},
   "outputs": [],
   "source": [
    "%%sql \n",
    "\n"
   ]
  },
  {
   "cell_type": "markdown",
   "metadata": {},
   "source": [
    "## Insert Vendor Data \n",
    "\n",
    "In the cell below insert the following data into the vendor table:\n",
    "\n",
    "| ID | CompanyName | ContactLastName | ContactFirstName | Address | City | State | ZIP | Phone | Fax | Email | \n",
    "| --- | --- | --- | --- | --- | --- | --- | --- | --- | --- | --- |\n",
    "| 1 | Linens and Things | Huntington | Anne | 1515 NW Market Street | Seattle | WA | 98107 | 206-325-6755 | 206-329-9675 | LAT@business.com | \n",
    "| 2 | European Specialties | Tadema | Ken | 6123 15th Avenue NW | Seattle | WA | 98107 | 206-325-7866 | 206-329-9786 | ES@business.com | \n"
   ]
  },
  {
   "cell_type": "code",
   "execution_count": null,
   "metadata": {},
   "outputs": [],
   "source": [
    "%%sql\n",
    "\n"
   ]
  },
  {
   "cell_type": "markdown",
   "metadata": {},
   "source": [
    "## Create the Item Table \n",
    "\n",
    "In the cell below use an SQL create staement to make the item table: \n",
    "\n",
    "| Name | Type | Notes | \n",
    "| --- | --- | --- | \n",
    "| ItemID | int\t | Primary Key |\n",
    "| ItemDescription | varchar(255) | NOT NULL |\n",
    "| PurchaseDate | datetime\t | NOT NULL |\n",
    "| ItemCost | double | NOT NULL |\n",
    "| ItemPrice | double | NOT NULL |\n",
    "| VendorID | int\t | NOT NULL |\n"
   ]
  },
  {
   "cell_type": "code",
   "execution_count": null,
   "metadata": {},
   "outputs": [],
   "source": [
    "%%sql \n",
    "\n"
   ]
  },
  {
   "cell_type": "markdown",
   "metadata": {},
   "source": [
    "## Insert Item Data\n",
    "\n",
    "Insert the following data into the item table:\n",
    "\n",
    "| ID | ItemDescription | PurchaseDate | ItemCost | ItemPrice | VendorID |\n",
    "| --- | --- | --- | --- | --- | --- | \n",
    "| 1 | Antique Desk | 2013-11-07 | 1800.00 | 3000.00 | 2 |\n",
    "| 2 | Antique Desk Chair | 2013-11-10 | 300.00 | 500.00 | 2 |\n",
    "| 3 | Dining Table Linens | 2013-11-14 | 600.00 | 1000.00 | 1 |\n",
    "| 4 | Candles | 2013-11-14 | 30.00 | 50.00 | 1 |\n"
   ]
  },
  {
   "cell_type": "code",
   "execution_count": null,
   "metadata": {},
   "outputs": [],
   "source": [
    "%%sql \n",
    "\n"
   ]
  },
  {
   "cell_type": "markdown",
   "metadata": {},
   "source": [
    "## Create the Sale Table \n",
    "\n",
    "In the cell below use and SQL create statement to make the sale table:\n",
    "\n",
    "| Name | Type | Notes | \n",
    "| --- | --- | --- | \n",
    "| SaleID | int\t | Primary Key |\n",
    "| CustomerID | int\t | FK - References the Customer Table |\n",
    "| EmployeeID | int\t | FK - References the Employee Table |\n",
    "| SaleDate | datetime | NOT NULL |\n",
    "| SubTotal | double |  |\n",
    "| Tax | double |  |\n",
    "| Total | double |  |\n"
   ]
  },
  {
   "cell_type": "code",
   "execution_count": null,
   "metadata": {},
   "outputs": [],
   "source": [
    "%%sql \n",
    "\n"
   ]
  },
  {
   "cell_type": "markdown",
   "metadata": {},
   "source": [
    "## Insert Sale Data \n",
    "\n",
    "Insert the following values into the sale table: \n",
    "\n",
    "| CustomerID | EmployeeID | SaleDate | SubTotal | Tax | Total |\n",
    "| --- | --- | --- | --- | --- | --- |\n",
    "| 1 | 1 | 2013-12-14 | 3500.00 | 290.50 | 3790.50 |\n",
    "| 2 | 1 | 2013-12-15 | 1000.00 | 83.00 | 1083.00 |"
   ]
  },
  {
   "cell_type": "code",
   "execution_count": null,
   "metadata": {},
   "outputs": [],
   "source": [
    "%%sql \n",
    "\n"
   ]
  },
  {
   "cell_type": "markdown",
   "metadata": {},
   "source": [
    "## Create the SaleItem Table\n",
    "\n",
    "In the cell below use an SQL create statement to make the SaleItem table:\n",
    "\n",
    "| Name | Type | Notes | \n",
    "| --- | --- | --- | \n",
    "| SaleID | int | Primary Key, FK - References the Sale Table|\n",
    "| ItemID | int | Primary Key, FK - References the Item Table |\n",
    "| ItemPrice | double |  |\n"
   ]
  },
  {
   "cell_type": "code",
   "execution_count": null,
   "metadata": {},
   "outputs": [],
   "source": [
    "%%sql\n",
    "\n"
   ]
  },
  {
   "cell_type": "markdown",
   "metadata": {},
   "source": [
    "## Insert Sale Items \n",
    "\n",
    "Complete the sale cells by inserting the following data: \n",
    "\n",
    "| SaleID | ItemID | ItemPrice | \n",
    "| --- | --- | --- | \n",
    "| 1 | 1 | 3000.00 |\n",
    "| 1 | 2 | 500.00 | \n",
    "| 2 | 3 | 1000.00 | \n"
   ]
  },
  {
   "cell_type": "code",
   "execution_count": null,
   "metadata": {},
   "outputs": [],
   "source": [
    "%%sql \n",
    "\n"
   ]
  },
  {
   "cell_type": "markdown",
   "metadata": {},
   "source": [
    "## Changes to the Database\n",
    "\n",
    "Implement the following changes using the SQL UPDATE or DELETE commands:\n",
    "\n",
    " 1. Mike Matera gets fired! Remove him from the employee table\n",
    " 2. The contact information for \"Linens and Things\" changed. The new contact is \"Bob Smith\"\n",
    " 3. Price increases! Make the ItemPrice of everything double the ItemCost"
   ]
  },
  {
   "cell_type": "code",
   "execution_count": null,
   "metadata": {},
   "outputs": [],
   "source": [
    "%%sql \n",
    "\n"
   ]
  },
  {
   "cell_type": "markdown",
   "metadata": {},
   "source": [
    "## Query the Data\n",
    "\n",
    "Write selects for each of your tables. Do they contain what you expect?"
   ]
  },
  {
   "cell_type": "code",
   "execution_count": null,
   "metadata": {},
   "outputs": [],
   "source": [
    "%%sql \n",
    "\n"
   ]
  }
 ],
 "metadata": {
  "kernelspec": {
   "display_name": "Python 3",
   "language": "python",
   "name": "python3"
  },
  "language_info": {
   "codemirror_mode": {
    "name": "ipython",
    "version": 3
   },
   "file_extension": ".py",
   "mimetype": "text/x-python",
   "name": "python",
   "nbconvert_exporter": "python",
   "pygments_lexer": "ipython3",
   "version": "3.6.2"
  }
 },
 "nbformat": 4,
 "nbformat_minor": 2
}
