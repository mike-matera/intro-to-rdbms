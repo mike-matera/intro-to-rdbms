{
 "cells": [
  {
   "cell_type": "markdown",
   "metadata": {},
   "source": [
    "# Introduction to Data Science with Python and Jupyter\n",
    "\n",
    "In this class we've studied data organization, called schema, and SQL that allows us to define, update and query our data. That's a solid start to Data Science but we need to be able to do more. SQL has a very limited ability to get statistical information from a query and no ability to do graphing. That's what we need [Jupyter](https://jupyter.org/) and [Pandas](https://pandas.pydata.org/) for. \n",
    "\n",
    "To setup the features of this notebook run the code in this cell that imports the `pandas` library. "
   ]
  },
  {
   "cell_type": "code",
   "execution_count": null,
   "metadata": {},
   "outputs": [],
   "source": [
    "import pandas as pd \n",
    "url = \"sqlite:///population.sqlite3\""
   ]
  },
  {
   "cell_type": "markdown",
   "metadata": {},
   "source": [
    "Pandas works by creating a `DataFrame`, which is just a table full of data. There are many ways to load a `DataFrame`, including using an SQL query. The cell below runs the query inside of the quotes and loads the result into a `DataFrame` named `df`. It then displays the table."
   ]
  },
  {
   "cell_type": "code",
   "execution_count": null,
   "metadata": {},
   "outputs": [],
   "source": [
    "query = \"\"\"\n",
    "select * from population;\n",
    "\"\"\"\n",
    "\n",
    "df = pd.read_sql_query(query, url)\n",
    "display(df)"
   ]
  },
  {
   "cell_type": "markdown",
   "metadata": {},
   "source": [
    "DataFrames expect to hold a *series* of data and some features will only work if you tell Pandas what the `index` (i.e. the X-axis of your data is). The cell below uses an SQL query to get California's population over the time period in our data set. Notice that there is no longer an index column with row numbers, the `year` column takes its place.  "
   ]
  },
  {
   "cell_type": "code",
   "execution_count": null,
   "metadata": {},
   "outputs": [],
   "source": [
    "query = \"\"\"\n",
    "select year, sum(pop_male), sum(pop_female), sum(pop_total)\n",
    "    from population\n",
    "    group by year;\n",
    "\"\"\"\n",
    "\n",
    "df = pd.read_sql_query(query, url, index_col='year')\n",
    "display(df)"
   ]
  },
  {
   "cell_type": "markdown",
   "metadata": {},
   "source": [
    "Indexing enables making graphs and Pandas has many graph types that you can choose from. "
   ]
  },
  {
   "cell_type": "code",
   "execution_count": null,
   "metadata": {},
   "outputs": [],
   "source": [
    "query = \"\"\"\n",
    "select year, sum(pop_male), sum(pop_female), sum(pop_total)\n",
    "    from population\n",
    "    group by year;\n",
    "\"\"\"\n",
    "\n",
    "df = pd.read_sql_query(query, url, index_col='year')\n",
    "display(df.plot(figsize=(10,6)))"
   ]
  },
  {
   "cell_type": "markdown",
   "metadata": {},
   "source": [
    "Sometimes data is surpising. In class you produced a query that showed the average age of the population. That's an interesting snapshot of a population, but in order to understand change over time you need a plot. Here's a graph of the average age of the population of California."
   ]
  },
  {
   "cell_type": "code",
   "execution_count": null,
   "metadata": {},
   "outputs": [],
   "source": [
    "query = \"\"\"\n",
    "select year, sum((age + 0.5) * pop_total) / sum(pop_total) as `Average Age`\n",
    "    from population\n",
    "    group by year;\n",
    "\"\"\"\n",
    "\n",
    "df = pd.read_sql_query(query, url, index_col='year')\n",
    "display(df.plot(figsize=(10,6)))"
   ]
  },
  {
   "cell_type": "markdown",
   "metadata": {},
   "source": [
    "> **Why did the average age stay stable until the mid 90s?**"
   ]
  },
  {
   "cell_type": "markdown",
   "metadata": {},
   "source": [
    "Pandas has a lot of functionality that's also in SQL and some that isn't. For example if you want to see counties represented against each other you can use the `pivot` function of a DataFrame. "
   ]
  },
  {
   "cell_type": "code",
   "execution_count": null,
   "metadata": {},
   "outputs": [],
   "source": [
    "query = \"\"\"\n",
    "select year, county, sum((age + 0.5) * pop_total) / sum(pop_total) as `Average Age`\n",
    "    from population\n",
    "    where \n",
    "        county = 'SANTA CRUZ'\n",
    "        or county = 'LOS ANGELES'\n",
    "        or county = 'MARIN'\n",
    "    group by year, county;\n",
    "\"\"\"\n",
    "\n",
    "df = pd.read_sql_query(query, url, index_col='year')\n",
    "display(df.pivot(columns='county').plot(figsize=(10,6)))"
   ]
  },
  {
   "cell_type": "markdown",
   "metadata": {},
   "source": [
    "School funding has been a generational problem in Santa Cruz, with Cabrillo seeing a decline in enrollment for the last 20 years. This graph helps us understand that problem."
   ]
  },
  {
   "cell_type": "code",
   "execution_count": null,
   "metadata": {},
   "outputs": [],
   "source": [
    "query = \"\"\"\n",
    "select year, sum(pop_total) as `Minors`\n",
    "    from population\n",
    "    where \n",
    "        county = 'SANTA CRUZ'\n",
    "        and age < 18\n",
    "    group by year;\n",
    "\"\"\"\n",
    "\n",
    "df = pd.read_sql_query(query, url, index_col='year')\n",
    "display(df.plot(figsize=(10,6)))"
   ]
  },
  {
   "cell_type": "markdown",
   "metadata": {},
   "source": [
    "It seems that in 1996 there were approximately 65,000 minors in Santa Cruz county. That number declined rapidly to a low of about 54,000, **a 17% decrease** by 2010. Fewer local school kids means fewer Cabrillo students. There are other ways we can look at demographics. Here's a histogram that shows the population of Santa Cruz by age.  "
   ]
  },
  {
   "cell_type": "code",
   "execution_count": null,
   "metadata": {},
   "outputs": [],
   "source": [
    "query = \"\"\"\n",
    "select age, sum(pop_total)\n",
    "    from population\n",
    "    where \n",
    "        county = 'SANTA CRUZ'\n",
    "        and year = '2018'\n",
    "    group by age;\n",
    "\"\"\"\n",
    "\n",
    "df = pd.read_sql_query(query, url, index_col='age')\n",
    "display(df.plot.bar(rot=90, figsize=(20,6)))"
   ]
  }
 ],
 "metadata": {
  "kernelspec": {
   "display_name": "Python 3",
   "language": "python",
   "name": "python3"
  },
  "language_info": {
   "codemirror_mode": {
    "name": "ipython",
    "version": 3
   },
   "file_extension": ".py",
   "mimetype": "text/x-python",
   "name": "python",
   "nbconvert_exporter": "python",
   "pygments_lexer": "ipython3",
   "version": "3.6.9"
  }
 },
 "nbformat": 4,
 "nbformat_minor": 4
}
