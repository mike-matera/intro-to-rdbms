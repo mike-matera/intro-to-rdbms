{
 "cells": [
  {
   "cell_type": "markdown",
   "metadata": {},
   "source": [
    "# Introduction to Relational Database Management Systems \n",
    "\n",
    "The class notes are [Jupyter](http://jupyter.org/) notebooks. Jupyter notebooks let you see and run your SQL queries and mix them with Python to perform data science. \n",
    "\n",
    "**Notebooks will be added througought the semester**"
   ]
  },
  {
   "cell_type": "markdown",
   "metadata": {},
   "source": [
    "## Week 1: Welcome \n",
    "\n",
    "* Ojectives \n",
    "  * Install MySQL Workbench \n",
    "  * Get Cloud9 Setup\n",
    "* Documentation \n",
    "  * [Using Jupyter](https://jupyter-notebook.readthedocs.io/en/stable)\n",
    "  * [Cloud9 User Guide](https://docs.aws.amazon.com/cloud9/latest/user-guide/tutorial.html)\n",
    "  * [Navigating files and directories in BASH](http://linuxcommand.org/lc3_lts0020.php)\n",
    "* Labs\n",
    "  * [Use Jupyter to Search Airports](Week01/airport_search.ipynb)"
   ]
  },
  {
   "cell_type": "markdown",
   "metadata": {},
   "source": [
    "## Week 2: Working With Lists \n",
    "\n",
    "* Ojectives \n",
    "  * Define schema  \n",
    "  * Learn about metadata \n",
    "  * Understand modification problems\n",
    "  * Do basic tasks in MySQL Workbench\n",
    "  * Use an SQL workbook in Jupyter\n",
    "* Labs\n",
    "  * [Use SQL to Search Airports](Week02/query_airports_with_sql.ipynb)"
   ]
  },
  {
   "cell_type": "markdown",
   "metadata": {},
   "source": [
    "## Week 6: SQL Selects\n",
    "\n",
    "  * Objectives \n",
    "    * Learn the SQL select statment \n",
    "    * Control the output columns \n",
    "    * Apply basic where predicates\n",
    "  * Practice\n",
    "    * [First SQL Practice](Week06/practice_selects.ipynb)\n",
    "  \n",
    "  "
   ]
  },
  {
   "cell_type": "markdown",
   "metadata": {},
   "source": [
    "## Week 7: SQL Sorting, Limiting and Grouping\n",
    "\n",
    "* Objectives \n",
    "  * Use the ORDER BY clause\n",
    "  * Use the LIMIT clause \n",
    "  * Understand GROUP BY and HAVING\n",
    "  * Use functions on a group\n",
    "* Practice\n",
    "  * [Ordering, Grouping and Functions](Week07/airports_practice.ipynb)\n",
    "  * [Population Practice](Week07/population_practice.ipynb)"
   ]
  },
  {
   "cell_type": "markdown",
   "metadata": {},
   "source": [
    "## Week 9: Create, Insert, Update and Delete\n",
    "\n",
    "* Objectives \n",
    "  * Use the CREATE statement\n",
    "  * Insert and delete rows\n",
    "  * Update rows\n",
    "* Practice\n",
    "  * [Queen Anne Project](Week09/queen_anne_project.ipynb)"
   ]
  },
  {
   "cell_type": "markdown",
   "metadata": {},
   "source": [
    "## Week 10: Multiple Tables and Joins\n",
    "\n",
    "* Objectives \n",
    "  * Learn to use subqueries\n",
    "  * Learn the inner join\n",
    "* Practice\n",
    "  * [Queen Anne Joins](Week10/queen_anne_joins.ipynb)"
   ]
  },
  {
   "cell_type": "markdown",
   "metadata": {},
   "source": [
    "## Week 11: Outer Joins\n",
    "\n",
    "* Objectives \n",
    "  * Learn the outer join\n",
    "* Practice\n",
    "  * [Pets Joins](Week11/pets_joins.ipynb)"
   ]
  }
 ],
 "metadata": {
  "kernelspec": {
   "display_name": "Python 3",
   "language": "python",
   "name": "python3"
  },
  "language_info": {
   "codemirror_mode": {
    "name": "ipython",
    "version": 3
   },
   "file_extension": ".py",
   "mimetype": "text/x-python",
   "name": "python",
   "nbconvert_exporter": "python",
   "pygments_lexer": "ipython3",
   "version": "3.6.2"
  }
 },
 "nbformat": 4,
 "nbformat_minor": 2
}
