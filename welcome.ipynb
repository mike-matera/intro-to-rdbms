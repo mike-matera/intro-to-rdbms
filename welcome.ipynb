{
 "cells": [
  {
   "cell_type": "markdown",
   "metadata": {},
   "source": [
    "# Introduction to Relational Database Management Systems \n",
    "\n",
    "The class notes are [Jupyter](http://jupyter.org/) notebooks. Jupyter notebooks let you see and run your SQL queries and mix them with Python to perform data science. \n",
    "\n",
    "**Notebooks will be added througought the semester**"
   ]
  },
  {
   "cell_type": "markdown",
   "metadata": {},
   "source": [
    "## Flights\n",
    "\n",
    "Quieries using data on aiports and flights. \n",
    "\n",
    "* Workbooks\n",
    "  * [Simple Selects](notebooks/Flights/simple_selects.ipynb)\n",
    "  * [Intermediate Selects](notebooks/Flights/intermediate_selects.ipynb)"
   ]
  },
  {
   "cell_type": "markdown",
   "metadata": {},
   "source": [
    "## Population \n",
    "\n",
    "Queries using California population data past and predicted future. \n",
    "\n",
    "* Workbooks\n",
    "  * [Advanced Selects](notebooks/Population/advanced_selects.ipynb)"
   ]
  },
  {
   "cell_type": "markdown",
   "metadata": {},
   "source": [
    "## Database Concepts \n",
    "\n",
    "Queries on data that comes from the \"Database Concepts\" textbook. \n",
    "\n",
    "* Workbooks\n",
    "  * [Pets Joins](notebooks/DatabaseConceptsBook/pets_joins.ipynb)\n",
    "  * [Queen Anne Joins](notebooks/DatabaseConceptsBook/queen_anne_joins.ipynb)"
   ]
  }
 ],
 "metadata": {
  "kernelspec": {
   "display_name": "Python 3",
   "language": "python",
   "name": "python3"
  },
  "language_info": {
   "codemirror_mode": {
    "name": "ipython",
    "version": 3
   },
   "file_extension": ".py",
   "mimetype": "text/x-python",
   "name": "python",
   "nbconvert_exporter": "python",
   "pygments_lexer": "ipython3",
   "version": "3.6.9"
  }
 },
 "nbformat": 4,
 "nbformat_minor": 4
}
