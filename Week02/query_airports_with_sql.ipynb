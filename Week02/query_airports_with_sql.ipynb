{
 "cells": [
  {
   "cell_type": "markdown",
   "metadata": {},
   "source": [
    "# SQL Queries in Notebooks\n",
    "\n",
    "Jupyter has the ability to mix different types of program code in a notebook. The class notebooks default to Python. However, SQL can be accomplised by adding so-called [cell magics](https://ipython.readthedocs.io/en/stable/interactive/magics.html). This notebooks shows you how to setup cell magics to use SQL.\n",
    "\n",
    "The cell below enables the SQL extension to Jupyter."
   ]
  },
  {
   "cell_type": "code",
   "execution_count": null,
   "metadata": {},
   "outputs": [],
   "source": [
    "%load_ext sql"
   ]
  },
  {
   "cell_type": "markdown",
   "metadata": {},
   "source": [
    "The `%load_ext sql` only needs to run once. If you re-run it a warning is shown. It's okay to ignore the warning. The next cell creates a connection to the DBMS. Jupyter is capable of accessing every popular DBMS this way. "
   ]
  },
  {
   "cell_type": "code",
   "execution_count": null,
   "metadata": {},
   "outputs": [],
   "source": [
    "%sql sqlite:///../Week01/flights.db "
   ]
  },
  {
   "cell_type": "markdown",
   "metadata": {},
   "source": [
    "Running this cell should produce a message that says `Connected: ...`. In this workbook we're using [SQLite](https://www.sqlite.org/index.html). SQLite is an *embedded* DBMS. Instead of using the client/server model that we're using on killgrave, the database is located in the `flights.db` file. SQLite is very, very convenient but doesn't scale as well as MySQL and the other client/server DBMSes. \n",
    "\n",
    "A cell that contains the `%%sql` magic is expected to contain SQL queries for the connected datbase. For example, here's an SQL query that shows all of the airports in New Zealand:"
   ]
  },
  {
   "cell_type": "code",
   "execution_count": null,
   "metadata": {},
   "outputs": [],
   "source": [
    "%%sql \n",
    "\n",
    "select * from airports where country = 'New Zealand';"
   ]
  },
  {
   "cell_type": "markdown",
   "metadata": {},
   "source": [
    "## Exercises \n",
    "\n",
    "You don't need to know any SQL at this point in the class, but these exercises will get you warmed up. Start by copying the SQL query from the cell above, paste it into the SQL cells below this one. Your challenge is to modify the queries so that they produce the requested data. "
   ]
  },
  {
   "cell_type": "markdown",
   "metadata": {},
   "source": [
    "### What are the airports in Sweden? \n",
    "\n",
    "Modify the SQL query to search in Sweden instead of New Zealand."
   ]
  },
  {
   "cell_type": "code",
   "execution_count": null,
   "metadata": {},
   "outputs": [],
   "source": [
    "%%sql \n",
    "\n",
    "select * from airports where country = 'Sweden';"
   ]
  },
  {
   "cell_type": "markdown",
   "metadata": {},
   "source": [
    "### What are the airports in San Jose? \n",
    "\n",
    "Modify the query to search for the city of San Jose instead of the country of New Zealand? "
   ]
  },
  {
   "cell_type": "code",
   "execution_count": null,
   "metadata": {},
   "outputs": [],
   "source": [
    "%%sql \n",
    "\n",
    "select * from airports where city = 'San Jose';"
   ]
  },
  {
   "cell_type": "markdown",
   "metadata": {},
   "source": [
    "## Turn In \n",
    "\n",
    "Zip the contents of the Week02 folder and turn it in on Canvas"
   ]
  }
 ],
 "metadata": {
  "kernelspec": {
   "display_name": "Python 3",
   "language": "python",
   "name": "python3"
  },
  "language_info": {
   "codemirror_mode": {
    "name": "ipython",
    "version": 3
   },
   "file_extension": ".py",
   "mimetype": "text/x-python",
   "name": "python",
   "nbconvert_exporter": "python",
   "pygments_lexer": "ipython3",
   "version": "3.6.2"
  }
 },
 "nbformat": 4,
 "nbformat_minor": 2
}
